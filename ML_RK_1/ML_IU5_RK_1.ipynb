{
 "cells": [
  {
   "cell_type": "markdown",
   "id": "8b79cc7b",
   "metadata": {},
   "source": [
    "# Рубежный контроль №1. Тема: Технологии разведочного анализа и обработки данных."
   ]
  },
  {
   "cell_type": "markdown",
   "id": "a770965d",
   "metadata": {},
   "source": [
    "Выполнил:\n",
    "\n",
    "студент группы РТ5-61Б Незаметдинов Тимур"
   ]
  },
  {
   "cell_type": "markdown",
   "id": "f4a95e83",
   "metadata": {},
   "source": [
    "## Импорт библиотек"
   ]
  },
  {
   "cell_type": "code",
   "execution_count": 1,
   "id": "d1ebcb82",
   "metadata": {},
   "outputs": [],
   "source": [
    "import pandas as pd\n",
    "import numpy as np\n",
    "import matplotlib as plt\n",
    "from sklearn.impute import SimpleImputer"
   ]
  },
  {
   "cell_type": "markdown",
   "id": "81356b1c",
   "metadata": {},
   "source": [
    "## Загрузка данных"
   ]
  },
  {
   "cell_type": "code",
   "execution_count": 2,
   "id": "6a5e51fc",
   "metadata": {},
   "outputs": [],
   "source": [
    "data = pd.read_csv('data.csv')"
   ]
  },
  {
   "cell_type": "code",
   "execution_count": 3,
   "id": "6a40ae6b",
   "metadata": {},
   "outputs": [
    {
     "data": {
      "text/html": [
       "<div>\n",
       "<style scoped>\n",
       "    .dataframe tbody tr th:only-of-type {\n",
       "        vertical-align: middle;\n",
       "    }\n",
       "\n",
       "    .dataframe tbody tr th {\n",
       "        vertical-align: top;\n",
       "    }\n",
       "\n",
       "    .dataframe thead th {\n",
       "        text-align: right;\n",
       "    }\n",
       "</style>\n",
       "<table border=\"1\" class=\"dataframe\">\n",
       "  <thead>\n",
       "    <tr style=\"text-align: right;\">\n",
       "      <th></th>\n",
       "      <th>Unnamed: 0</th>\n",
       "      <th>ID</th>\n",
       "      <th>Name</th>\n",
       "      <th>Age</th>\n",
       "      <th>Photo</th>\n",
       "      <th>Nationality</th>\n",
       "      <th>Flag</th>\n",
       "      <th>Overall</th>\n",
       "      <th>Potential</th>\n",
       "      <th>Club</th>\n",
       "      <th>...</th>\n",
       "      <th>Composure</th>\n",
       "      <th>Marking</th>\n",
       "      <th>StandingTackle</th>\n",
       "      <th>SlidingTackle</th>\n",
       "      <th>GKDiving</th>\n",
       "      <th>GKHandling</th>\n",
       "      <th>GKKicking</th>\n",
       "      <th>GKPositioning</th>\n",
       "      <th>GKReflexes</th>\n",
       "      <th>Release Clause</th>\n",
       "    </tr>\n",
       "  </thead>\n",
       "  <tbody>\n",
       "    <tr>\n",
       "      <td>0</td>\n",
       "      <td>0</td>\n",
       "      <td>158023</td>\n",
       "      <td>L. Messi</td>\n",
       "      <td>31</td>\n",
       "      <td>https://cdn.sofifa.org/players/4/19/158023.png</td>\n",
       "      <td>Argentina</td>\n",
       "      <td>https://cdn.sofifa.org/flags/52.png</td>\n",
       "      <td>94</td>\n",
       "      <td>94</td>\n",
       "      <td>FC Barcelona</td>\n",
       "      <td>...</td>\n",
       "      <td>96.0</td>\n",
       "      <td>33.0</td>\n",
       "      <td>28.0</td>\n",
       "      <td>26.0</td>\n",
       "      <td>6.0</td>\n",
       "      <td>11.0</td>\n",
       "      <td>15.0</td>\n",
       "      <td>14.0</td>\n",
       "      <td>8.0</td>\n",
       "      <td>€226.5M</td>\n",
       "    </tr>\n",
       "    <tr>\n",
       "      <td>1</td>\n",
       "      <td>1</td>\n",
       "      <td>20801</td>\n",
       "      <td>Cristiano Ronaldo</td>\n",
       "      <td>33</td>\n",
       "      <td>https://cdn.sofifa.org/players/4/19/20801.png</td>\n",
       "      <td>Portugal</td>\n",
       "      <td>https://cdn.sofifa.org/flags/38.png</td>\n",
       "      <td>94</td>\n",
       "      <td>94</td>\n",
       "      <td>Juventus</td>\n",
       "      <td>...</td>\n",
       "      <td>95.0</td>\n",
       "      <td>28.0</td>\n",
       "      <td>31.0</td>\n",
       "      <td>23.0</td>\n",
       "      <td>7.0</td>\n",
       "      <td>11.0</td>\n",
       "      <td>15.0</td>\n",
       "      <td>14.0</td>\n",
       "      <td>11.0</td>\n",
       "      <td>€127.1M</td>\n",
       "    </tr>\n",
       "    <tr>\n",
       "      <td>2</td>\n",
       "      <td>2</td>\n",
       "      <td>190871</td>\n",
       "      <td>Neymar Jr</td>\n",
       "      <td>26</td>\n",
       "      <td>https://cdn.sofifa.org/players/4/19/190871.png</td>\n",
       "      <td>Brazil</td>\n",
       "      <td>https://cdn.sofifa.org/flags/54.png</td>\n",
       "      <td>92</td>\n",
       "      <td>93</td>\n",
       "      <td>Paris Saint-Germain</td>\n",
       "      <td>...</td>\n",
       "      <td>94.0</td>\n",
       "      <td>27.0</td>\n",
       "      <td>24.0</td>\n",
       "      <td>33.0</td>\n",
       "      <td>9.0</td>\n",
       "      <td>9.0</td>\n",
       "      <td>15.0</td>\n",
       "      <td>15.0</td>\n",
       "      <td>11.0</td>\n",
       "      <td>€228.1M</td>\n",
       "    </tr>\n",
       "    <tr>\n",
       "      <td>3</td>\n",
       "      <td>3</td>\n",
       "      <td>193080</td>\n",
       "      <td>De Gea</td>\n",
       "      <td>27</td>\n",
       "      <td>https://cdn.sofifa.org/players/4/19/193080.png</td>\n",
       "      <td>Spain</td>\n",
       "      <td>https://cdn.sofifa.org/flags/45.png</td>\n",
       "      <td>91</td>\n",
       "      <td>93</td>\n",
       "      <td>Manchester United</td>\n",
       "      <td>...</td>\n",
       "      <td>68.0</td>\n",
       "      <td>15.0</td>\n",
       "      <td>21.0</td>\n",
       "      <td>13.0</td>\n",
       "      <td>90.0</td>\n",
       "      <td>85.0</td>\n",
       "      <td>87.0</td>\n",
       "      <td>88.0</td>\n",
       "      <td>94.0</td>\n",
       "      <td>€138.6M</td>\n",
       "    </tr>\n",
       "    <tr>\n",
       "      <td>4</td>\n",
       "      <td>4</td>\n",
       "      <td>192985</td>\n",
       "      <td>K. De Bruyne</td>\n",
       "      <td>27</td>\n",
       "      <td>https://cdn.sofifa.org/players/4/19/192985.png</td>\n",
       "      <td>Belgium</td>\n",
       "      <td>https://cdn.sofifa.org/flags/7.png</td>\n",
       "      <td>91</td>\n",
       "      <td>92</td>\n",
       "      <td>Manchester City</td>\n",
       "      <td>...</td>\n",
       "      <td>88.0</td>\n",
       "      <td>68.0</td>\n",
       "      <td>58.0</td>\n",
       "      <td>51.0</td>\n",
       "      <td>15.0</td>\n",
       "      <td>13.0</td>\n",
       "      <td>5.0</td>\n",
       "      <td>10.0</td>\n",
       "      <td>13.0</td>\n",
       "      <td>€196.4M</td>\n",
       "    </tr>\n",
       "  </tbody>\n",
       "</table>\n",
       "<p>5 rows × 89 columns</p>\n",
       "</div>"
      ],
      "text/plain": [
       "   Unnamed: 0      ID               Name  Age  \\\n",
       "0           0  158023           L. Messi   31   \n",
       "1           1   20801  Cristiano Ronaldo   33   \n",
       "2           2  190871          Neymar Jr   26   \n",
       "3           3  193080             De Gea   27   \n",
       "4           4  192985       K. De Bruyne   27   \n",
       "\n",
       "                                            Photo Nationality  \\\n",
       "0  https://cdn.sofifa.org/players/4/19/158023.png   Argentina   \n",
       "1   https://cdn.sofifa.org/players/4/19/20801.png    Portugal   \n",
       "2  https://cdn.sofifa.org/players/4/19/190871.png      Brazil   \n",
       "3  https://cdn.sofifa.org/players/4/19/193080.png       Spain   \n",
       "4  https://cdn.sofifa.org/players/4/19/192985.png     Belgium   \n",
       "\n",
       "                                  Flag  Overall  Potential  \\\n",
       "0  https://cdn.sofifa.org/flags/52.png       94         94   \n",
       "1  https://cdn.sofifa.org/flags/38.png       94         94   \n",
       "2  https://cdn.sofifa.org/flags/54.png       92         93   \n",
       "3  https://cdn.sofifa.org/flags/45.png       91         93   \n",
       "4   https://cdn.sofifa.org/flags/7.png       91         92   \n",
       "\n",
       "                  Club  ... Composure Marking StandingTackle  SlidingTackle  \\\n",
       "0         FC Barcelona  ...      96.0    33.0           28.0           26.0   \n",
       "1             Juventus  ...      95.0    28.0           31.0           23.0   \n",
       "2  Paris Saint-Germain  ...      94.0    27.0           24.0           33.0   \n",
       "3    Manchester United  ...      68.0    15.0           21.0           13.0   \n",
       "4      Manchester City  ...      88.0    68.0           58.0           51.0   \n",
       "\n",
       "  GKDiving  GKHandling  GKKicking  GKPositioning GKReflexes Release Clause  \n",
       "0      6.0        11.0       15.0           14.0        8.0        €226.5M  \n",
       "1      7.0        11.0       15.0           14.0       11.0        €127.1M  \n",
       "2      9.0         9.0       15.0           15.0       11.0        €228.1M  \n",
       "3     90.0        85.0       87.0           88.0       94.0        €138.6M  \n",
       "4     15.0        13.0        5.0           10.0       13.0        €196.4M  \n",
       "\n",
       "[5 rows x 89 columns]"
      ]
     },
     "execution_count": 3,
     "metadata": {},
     "output_type": "execute_result"
    }
   ],
   "source": [
    "data.head()"
   ]
  },
  {
   "cell_type": "code",
   "execution_count": 4,
   "id": "bd22ea13",
   "metadata": {},
   "outputs": [
    {
     "name": "stdout",
     "output_type": "stream",
     "text": [
      "<class 'pandas.core.frame.DataFrame'>\n",
      "RangeIndex: 18207 entries, 0 to 18206\n",
      "Data columns (total 89 columns):\n",
      "Unnamed: 0                  18207 non-null int64\n",
      "ID                          18207 non-null int64\n",
      "Name                        18207 non-null object\n",
      "Age                         18207 non-null int64\n",
      "Photo                       18207 non-null object\n",
      "Nationality                 18207 non-null object\n",
      "Flag                        18207 non-null object\n",
      "Overall                     18207 non-null int64\n",
      "Potential                   18207 non-null int64\n",
      "Club                        17966 non-null object\n",
      "Club Logo                   18207 non-null object\n",
      "Value                       18207 non-null object\n",
      "Wage                        18207 non-null object\n",
      "Special                     18207 non-null int64\n",
      "Preferred Foot              18159 non-null object\n",
      "International Reputation    18159 non-null float64\n",
      "Weak Foot                   18159 non-null float64\n",
      "Skill Moves                 18159 non-null float64\n",
      "Work Rate                   18159 non-null object\n",
      "Body Type                   18159 non-null object\n",
      "Real Face                   18159 non-null object\n",
      "Position                    18147 non-null object\n",
      "Jersey Number               18147 non-null float64\n",
      "Joined                      16654 non-null object\n",
      "Loaned From                 1264 non-null object\n",
      "Contract Valid Until        17918 non-null object\n",
      "Height                      18159 non-null object\n",
      "Weight                      18159 non-null object\n",
      "LS                          16122 non-null object\n",
      "ST                          16122 non-null object\n",
      "RS                          16122 non-null object\n",
      "LW                          16122 non-null object\n",
      "LF                          16122 non-null object\n",
      "CF                          16122 non-null object\n",
      "RF                          16122 non-null object\n",
      "RW                          16122 non-null object\n",
      "LAM                         16122 non-null object\n",
      "CAM                         16122 non-null object\n",
      "RAM                         16122 non-null object\n",
      "LM                          16122 non-null object\n",
      "LCM                         16122 non-null object\n",
      "CM                          16122 non-null object\n",
      "RCM                         16122 non-null object\n",
      "RM                          16122 non-null object\n",
      "LWB                         16122 non-null object\n",
      "LDM                         16122 non-null object\n",
      "CDM                         16122 non-null object\n",
      "RDM                         16122 non-null object\n",
      "RWB                         16122 non-null object\n",
      "LB                          16122 non-null object\n",
      "LCB                         16122 non-null object\n",
      "CB                          16122 non-null object\n",
      "RCB                         16122 non-null object\n",
      "RB                          16122 non-null object\n",
      "Crossing                    18159 non-null float64\n",
      "Finishing                   18159 non-null float64\n",
      "HeadingAccuracy             18159 non-null float64\n",
      "ShortPassing                18159 non-null float64\n",
      "Volleys                     18159 non-null float64\n",
      "Dribbling                   18159 non-null float64\n",
      "Curve                       18159 non-null float64\n",
      "FKAccuracy                  18159 non-null float64\n",
      "LongPassing                 18159 non-null float64\n",
      "BallControl                 18159 non-null float64\n",
      "Acceleration                18159 non-null float64\n",
      "SprintSpeed                 18159 non-null float64\n",
      "Agility                     18159 non-null float64\n",
      "Reactions                   18159 non-null float64\n",
      "Balance                     18159 non-null float64\n",
      "ShotPower                   18159 non-null float64\n",
      "Jumping                     18159 non-null float64\n",
      "Stamina                     18159 non-null float64\n",
      "Strength                    18159 non-null float64\n",
      "LongShots                   18159 non-null float64\n",
      "Aggression                  18159 non-null float64\n",
      "Interceptions               18159 non-null float64\n",
      "Positioning                 18159 non-null float64\n",
      "Vision                      18159 non-null float64\n",
      "Penalties                   18159 non-null float64\n",
      "Composure                   18159 non-null float64\n",
      "Marking                     18159 non-null float64\n",
      "StandingTackle              18159 non-null float64\n",
      "SlidingTackle               18159 non-null float64\n",
      "GKDiving                    18159 non-null float64\n",
      "GKHandling                  18159 non-null float64\n",
      "GKKicking                   18159 non-null float64\n",
      "GKPositioning               18159 non-null float64\n",
      "GKReflexes                  18159 non-null float64\n",
      "Release Clause              16643 non-null object\n",
      "dtypes: float64(38), int64(6), object(45)\n",
      "memory usage: 12.4+ MB\n"
     ]
    }
   ],
   "source": [
    "data.info()"
   ]
  },
  {
   "cell_type": "markdown",
   "id": "0d2e479d",
   "metadata": {},
   "source": [
    "В загруженном датасете 89 колонок и 18207 строк. В колонках хранятся данные различного типа. В данных имеются пропуски, оценим их количество:"
   ]
  },
  {
   "cell_type": "code",
   "execution_count": 5,
   "id": "eb5147e1",
   "metadata": {
    "scrolled": false
   },
   "outputs": [
    {
     "name": "stdout",
     "output_type": "stream",
     "text": [
      "Club :  241 object\n",
      "Preferred Foot :  48 object\n",
      "International Reputation :  48 float64\n",
      "Weak Foot :  48 float64\n",
      "Skill Moves :  48 float64\n",
      "Work Rate :  48 object\n",
      "Body Type :  48 object\n",
      "Real Face :  48 object\n",
      "Position :  60 object\n",
      "Jersey Number :  60 float64\n",
      "Joined :  1553 object\n",
      "Loaned From :  16943 object\n",
      "Contract Valid Until :  289 object\n",
      "Height :  48 object\n",
      "Weight :  48 object\n",
      "LS :  2085 object\n",
      "ST :  2085 object\n",
      "RS :  2085 object\n",
      "LW :  2085 object\n",
      "LF :  2085 object\n",
      "CF :  2085 object\n",
      "RF :  2085 object\n",
      "RW :  2085 object\n",
      "LAM :  2085 object\n",
      "CAM :  2085 object\n",
      "RAM :  2085 object\n",
      "LM :  2085 object\n",
      "LCM :  2085 object\n",
      "CM :  2085 object\n",
      "RCM :  2085 object\n",
      "RM :  2085 object\n",
      "LWB :  2085 object\n",
      "LDM :  2085 object\n",
      "CDM :  2085 object\n",
      "RDM :  2085 object\n",
      "RWB :  2085 object\n",
      "LB :  2085 object\n",
      "LCB :  2085 object\n",
      "CB :  2085 object\n",
      "RCB :  2085 object\n",
      "RB :  2085 object\n",
      "Crossing :  48 float64\n",
      "Finishing :  48 float64\n",
      "HeadingAccuracy :  48 float64\n",
      "ShortPassing :  48 float64\n",
      "Volleys :  48 float64\n",
      "Dribbling :  48 float64\n",
      "Curve :  48 float64\n",
      "FKAccuracy :  48 float64\n",
      "LongPassing :  48 float64\n",
      "BallControl :  48 float64\n",
      "Acceleration :  48 float64\n",
      "SprintSpeed :  48 float64\n",
      "Agility :  48 float64\n",
      "Reactions :  48 float64\n",
      "Balance :  48 float64\n",
      "ShotPower :  48 float64\n",
      "Jumping :  48 float64\n",
      "Stamina :  48 float64\n",
      "Strength :  48 float64\n",
      "LongShots :  48 float64\n",
      "Aggression :  48 float64\n",
      "Interceptions :  48 float64\n",
      "Positioning :  48 float64\n",
      "Vision :  48 float64\n",
      "Penalties :  48 float64\n",
      "Composure :  48 float64\n",
      "Marking :  48 float64\n",
      "StandingTackle :  48 float64\n",
      "SlidingTackle :  48 float64\n",
      "GKDiving :  48 float64\n",
      "GKHandling :  48 float64\n",
      "GKKicking :  48 float64\n",
      "GKPositioning :  48 float64\n",
      "GKReflexes :  48 float64\n",
      "Release Clause :  1564 object\n"
     ]
    }
   ],
   "source": [
    "for column in data.columns:\n",
    "    if data[column].isna().sum() != 0:\n",
    "        print(column,': ', data[column].isna().sum(), data[column].dtype)"
   ]
  },
  {
   "cell_type": "markdown",
   "id": "21c20f09",
   "metadata": {},
   "source": [
    "Согласно полученному заданию, необходимы выполнить обработку пропусков в данных для одного категориального и одного количественного признака. Выберем для этого категориальную колонку `Club`, и количественную `Weak Foot`."
   ]
  },
  {
   "cell_type": "markdown",
   "id": "936ccec0",
   "metadata": {},
   "source": [
    "## Обработка пропусков"
   ]
  },
  {
   "cell_type": "markdown",
   "id": "ef3695e4",
   "metadata": {},
   "source": [
    "### Обработка пропусков в категориальных столбцах"
   ]
  },
  {
   "cell_type": "markdown",
   "id": "bd72098b",
   "metadata": {},
   "source": [
    "Посмотрим на уникальные значения столбца `Club`"
   ]
  },
  {
   "cell_type": "code",
   "execution_count": 6,
   "id": "57210e4c",
   "metadata": {},
   "outputs": [
    {
     "data": {
      "text/plain": [
       "array(['FC Barcelona', 'Juventus', 'Paris Saint-Germain',\n",
       "       'Manchester United', 'Manchester City', 'Chelsea', 'Real Madrid',\n",
       "       'Atlético Madrid', 'FC Bayern München', 'Tottenham Hotspur',\n",
       "       'Liverpool', 'Napoli', 'Arsenal', 'Milan', 'Inter', 'Lazio',\n",
       "       'Borussia Dortmund', 'Vissel Kobe', 'Olympique Lyonnais', 'Roma',\n",
       "       'Valencia CF', 'Guangzhou Evergrande Taobao FC', 'FC Porto',\n",
       "       'FC Schalke 04', 'Beşiktaş JK', 'LA Galaxy', 'Sporting CP',\n",
       "       'Real Betis', 'Olympique de Marseille', 'RC Celta',\n",
       "       'Bayer 04 Leverkusen', 'Real Sociedad', 'Villarreal CF',\n",
       "       'Sevilla FC', 'SL Benfica', 'AS Saint-Étienne', 'AS Monaco',\n",
       "       'Leicester City', 'Atalanta', 'Grêmio', 'Atlético Mineiro',\n",
       "       'RB Leipzig', 'Ajax', 'Dalian YiFang FC', 'Everton',\n",
       "       'West Ham United', '1. FC Köln', 'TSG 1899 Hoffenheim',\n",
       "       'Shanghai SIPG FC', 'OGC Nice', 'Al Nassr',\n",
       "       'Wolverhampton Wanderers', 'Borussia Mönchengladbach',\n",
       "       'Hertha BSC', 'SV Werder Bremen', 'Cruzeiro',\n",
       "       'Athletic Club de Bilbao', 'Torino', 'Medipol Başakşehir FK',\n",
       "       'Beijing Sinobo Guoan FC', 'Crystal Palace', 'PFC CSKA Moscow',\n",
       "       'VfL Wolfsburg', 'Shakhtar Donetsk', 'Toronto FC',\n",
       "       'Lokomotiv Moscow', 'Sassuolo', 'New York City FC', 'Fluminense',\n",
       "       'PSV', 'Levante UD', 'Fulham', 'Watford', 'Atlanta United',\n",
       "       'Montpellier HSC', 'Galatasaray SK', 'Fenerbahçe SK', 'SD Eibar',\n",
       "       'Los Angeles FC', 'Sampdoria', 'Al Hilal', 'VfB Stuttgart',\n",
       "       'SC Braga', 'River Plate', 'Deportivo Alavés', nan,\n",
       "       'Eintracht Frankfurt', 'Girona FC', 'Guangzhou R&F; FC', 'Burnley',\n",
       "       'Stoke City', 'Southampton', 'Tianjin Quanjian FC', 'Getafe CF',\n",
       "       'Beijing Renhe FC', 'Montreal Impact', 'Chievo Verona', 'Genoa',\n",
       "       'Portland Timbers', 'Tigres U.A.N.L.', 'RCD Espanyol',\n",
       "       'Hebei China Fortune FC', 'Cagliari', 'Chicago Fire', 'DC United',\n",
       "       'Sagan Tosu', 'Dynamo Kyiv', 'Santos', 'Internacional',\n",
       "       'América FC (Minas Gerais)', 'Independiente', 'Boca Juniors',\n",
       "       'Cruz Azul', '1. FSV Mainz 05', 'Bournemouth', 'Spartak Moscow',\n",
       "       'Racing Club', 'FC Augsburg', 'Fiorentina', 'FC Nantes',\n",
       "       'Feyenoord', 'Club Brugge KV', 'Brighton & Hove Albion', 'Al Ahli',\n",
       "       'Jiangsu Suning FC', 'SC Freiburg', 'PAOK', 'Stade Rennais FC',\n",
       "       'Trabzonspor', 'SPAL', 'Portimonense SC', 'Olympiacos CFP',\n",
       "       'Club Atlético Huracán', 'Kasimpaşa SK', 'Newcastle United',\n",
       "       'Frosinone', 'Querétaro', 'KRC Genk', 'Hannover 96',\n",
       "       'Stade Malherbe Caen', 'Godoy Cruz', 'Toulouse Football Club',\n",
       "       'RSC Anderlecht', 'Huddersfield Town', 'CD Tondela',\n",
       "       'Seattle Sounders FC', 'Hamburger SV', 'FC Red Bull Salzburg',\n",
       "       'Rio Ave FC', 'FC Girondins de Bordeaux', 'Melbourne Victory',\n",
       "       'Parma', 'FC Basel 1893', 'Al Wehda', 'BSC Young Boys', 'KAA Gent',\n",
       "       'Al Ittihad', 'Standard de Liège', 'Shanghai Greenland Shenhua FC',\n",
       "       'Colo-Colo', 'Junior FC', 'West Bromwich Albion',\n",
       "       'RC Strasbourg Alsace', 'Göztepe SK', 'Deportivo Cali',\n",
       "       'Deportivo Toluca', 'Bologna', 'Nagoya Grampus', 'Amiens SC',\n",
       "       'Changchun Yatai FC', 'Club Atlético Lanús', 'Botafogo',\n",
       "       'Club América', 'Udinese', 'Real Valladolid CF', 'CD Leganés',\n",
       "       'Club Atlético Banfield', 'Celtic', 'Vitória Guimarães',\n",
       "       'FC København', 'UD Las Palmas', 'Deportivo de La Coruña',\n",
       "       'Universidad Católica', 'San Lorenzo de Almagro', 'Rayo Vallecano',\n",
       "       'Monterrey', 'Columbus Crew SC', 'MKE Ankaragücü',\n",
       "       'Guizhou Hengfeng FC', 'Swansea City', 'Tianjin TEDA FC',\n",
       "       'Chongqing Dangdai Lifan FC SWM Team', 'AEK Athens', 'Al Taawoun',\n",
       "       'Melbourne City FC', 'En Avant de Guingamp',\n",
       "       'Akhisar Belediyespor', 'Foggia', 'LOSC Lille', '1. FC Nürnberg',\n",
       "       'Clube Sport Marítimo', 'Real Sporting de Gijón', 'BB Erzurumspor',\n",
       "       'Shandong Luneng TaiShan FC', 'Club Atlético Colón', 'Bahia',\n",
       "       'Once Caldas', 'FC Groningen', 'Angers SCO', 'Paraná',\n",
       "       'Antalyaspor', 'Minnesota United FC', 'Club León', 'Empoli',\n",
       "       'VVV-Venlo', 'Leeds United', 'Viktoria Plzeň', 'Alanyaspor',\n",
       "       'Atlético Paranaense', 'Derby County', 'Kawasaki Frontale',\n",
       "       'Cardiff City', 'Aston Villa', 'Guadalajara', 'Dijon FCO',\n",
       "       'Santos Laguna', 'Málaga CF', 'Vitória', 'Çaykur Rizespor',\n",
       "       'U.N.A.M.', 'Nottingham Forest', 'Royal Antwerp FC',\n",
       "       'Club Tijuana', 'Sport Club do Recife', 'Real Salt Lake',\n",
       "       'AZ Alkmaar', 'SK Slavia Praha', 'Willem II', 'Middlesbrough',\n",
       "       'Dinamo Zagreb', 'Club Atlas', 'Granada CF', 'Sydney FC',\n",
       "       'Sporting Kansas City', 'SV Zulte-Waregem', 'Philadelphia Union',\n",
       "       'Real Oviedo', 'Pachuca', 'Boavista FC', 'Atiker Konyaspor',\n",
       "       'Kaizer Chiefs', 'GD Chaves', 'Palermo', 'Atlético Nacional',\n",
       "       'Puebla FC', 'Perth Glory', 'Panathinaikos FC', 'FC Sion',\n",
       "       'Vitória de Setúbal', 'New York Red Bulls', 'Al Shabab',\n",
       "       'Monarcas Morelia', 'Albacete BP', 'Rangers FC', 'Sparta Praha',\n",
       "       'Legia Warszawa', 'Urawa Red Diamonds', 'Rosario Central',\n",
       "       'Stade de Reims', 'ADO Den Haag', 'Chapecoense', 'FC Midtjylland',\n",
       "       'San Jose Earthquakes', 'Belgrano de Córdoba', 'Brescia',\n",
       "       'Kashima Antlers', 'CD Everton de Viña del Mar',\n",
       "       'Fortuna Düsseldorf', 'SD Huesca', 'Preston North End',\n",
       "       'Club Atlético Talleres', 'Benevento', 'Vitesse',\n",
       "       'Gimnasia y Esgrima La Plata', 'Houston Dynamo', 'Club Necaxa',\n",
       "       'Norwich City', 'Holstein Kiel', 'Ettifaq FC', 'Kayserispor',\n",
       "       '1. FC Heidenheim 1846', 'Brentford', 'Yeni Malatyaspor',\n",
       "       'Lobos BUAP', 'Bursaspor', 'Ceará Sporting Club',\n",
       "       'Sheffield United', 'FC Ingolstadt 04', 'Estudiantes de La Plata',\n",
       "       'AIK', 'Queens Park Rangers', 'Suwon Samsung Bluewings',\n",
       "       'Heart of Midlothian', 'Reading', 'FC Dallas', 'Heracles Almelo',\n",
       "       'Venezia FC', 'CD Lugo', 'Henan Jianye FC', 'Orlando City SC',\n",
       "       'CA Osasuna', 'NAC Breda', 'Livorno', 'Universidad de Chile',\n",
       "       'Brøndby IF', 'Aberdeen', 'Defensa y Justicia', 'Atlético Tucumán',\n",
       "       'Blackburn Rovers', 'SV Darmstadt 98', 'Moreirense FC',\n",
       "       'Sanfrecce Hiroshima', 'CD Numancia', 'KV Oostende', 'FC Utrecht',\n",
       "       'Vancouver Whitecaps FC', 'Odense Boldklub', 'SC Heerenveen',\n",
       "       'Racing Club de Lens', 'Independiente Santa Fe',\n",
       "       'Sporting de Charleroi', 'Millonarios FC', 'Sheffield Wednesday',\n",
       "       'Perugia', 'Daegu FC', 'Vélez Sarsfield',\n",
       "       'Grasshopper Club Zürich', 'Sivasspor', 'Nîmes Olympique',\n",
       "       'Rosenborg BK', 'SK Sturm Graz', 'FC Metz',\n",
       "       'CD Universidad de Concepción', 'Hellas Verona', 'Brisbane Roar',\n",
       "       'CD Feirense', 'Hull City', 'Waasland-Beveren', 'Neuchâtel Xamax',\n",
       "       'Real Zaragoza', 'CD Aves', 'Millwall', 'Unión de Santa Fe',\n",
       "       'KAS Eupen', 'Cádiz CF', 'FC Tokyo', 'CD Tenerife',\n",
       "       '1. FC Union Berlin', 'Al Fayha', 'AJ Auxerre',\n",
       "       'Patriotas Boyacá FC', 'Molde FK', 'Bristol City', 'CD Nacional',\n",
       "       'Sporting Lokeren', 'FC St. Pauli', 'Deportes Iquique',\n",
       "       'Al Qadisiyah', 'Atlético Bucaramanga', 'Club Atlético Tigre',\n",
       "       'FK Austria Wien', 'Patronato', 'Malmö FF', 'Kashiwa Reysol',\n",
       "       'US Cremonese', 'VfL Bochum 1848', 'SK Rapid Wien',\n",
       "       'KSV Cercle Brugge', 'Rionegro Águilas', 'Gimnàstic de Tarragona',\n",
       "       'Lecce', 'Santa Clara', 'BK Häcken', 'New England Revolution',\n",
       "       'Orlando Pirates', 'Atlético Huila', 'Western Sydney Wanderers',\n",
       "       'Kalmar FF', 'Independiente Medellín', 'Fortuna Sittard',\n",
       "       'Lech Poznań', 'Djurgårdens IF', 'CF Reus Deportiu', 'SK Brann',\n",
       "       'Ulsan Hyundai FC', 'Sint-Truidense VV', 'Carpi', 'Al Fateh',\n",
       "       'Royal Excel Mouscron', 'AC Ajaccio', 'PEC Zwolle', 'Sunderland',\n",
       "       'Club Atlético Aldosivi', 'US Salernitana 1919', 'FC Lorient',\n",
       "       'Argentinos Juniors', 'AD Alcorcón', 'Crotone', 'Excelsior',\n",
       "       'KV Kortrijk', 'IFK Norrköping', 'Adelaide United',\n",
       "       'FC St. Gallen', 'Tiburones Rojos de Veracruz', 'CD Palestino',\n",
       "       'Jeju United FC', 'Deportes Tolima', 'Jeonbuk Hyundai Motors',\n",
       "       'Birmingham City', 'América de Cali', 'La Equidad', 'Spezia',\n",
       "       'Aalborg BK', 'Le Havre AC', 'Górnik Zabrze',\n",
       "       'Central Coast Mariners', 'Wigan Athletic',\n",
       "       'Jagiellonia Białystok', 'Cittadella', 'Hibernian', 'FC Lugano',\n",
       "       'San Martín de San Juan', 'Strømsgodset IF', 'Júbilo Iwata',\n",
       "       \"Newell's Old Boys\", 'Al Faisaly', 'Colorado Rapids',\n",
       "       'IF Elfsborg', 'SV Sandhausen', 'Al Batin', 'Stade Brestois 29',\n",
       "       'UD Almería', 'Gyeongnam FC', 'Yokohama F. Marinos', 'Kilmarnock',\n",
       "       'Pescara', 'Newcastle Jets', 'Córdoba CF', 'RCD Mallorca',\n",
       "       'Hammarby IF', 'Cerezo Osaka', 'KFC Uerdingen 05',\n",
       "       'Shimizu S-Pulse', 'MSV Duisburg', 'Os Belenenses',\n",
       "       'DSC Arminia Bielefeld', 'Ipswich Town', 'FC Seoul',\n",
       "       'Lechia Gdańsk', 'Gamba Osaka', 'CF Rayo Majadahonda', 'LASK Linz',\n",
       "       'Bolton Wanderers', 'Al Raed', 'Extremadura UD', 'SC Paderborn 07',\n",
       "       'Wellington Phoenix', 'Unión Española', 'Alianza Petrolera',\n",
       "       'Cracovia', 'Gangwon FC', 'Elche CF', 'ESTAC Troyes', 'AS Béziers',\n",
       "       'La Berrichonne de Châteauroux', 'Clermont Foot 63',\n",
       "       '1. FC Magdeburg', 'Pohang Steelers', 'Örebro SK', 'Arka Gdynia',\n",
       "       'SG Dynamo Dresden', 'SpVgg Greuther Fürth', 'CD Huachipato',\n",
       "       'Wisła Kraków', 'Stabæk Fotball', 'Eintracht Braunschweig',\n",
       "       'Valenciennes FC', 'FC Thun', 'San Luis de Quillota',\n",
       "       ' SSV Jahn Regensburg', 'Cosenza', 'FC Nordsjælland',\n",
       "       'FC Erzgebirge Aue', 'Jeonnam Dragons', 'Wolfsberger AC',\n",
       "       'Chamois Niortais Football Club', 'Club Deportes Temuco',\n",
       "       'AS Nancy Lorraine', 'Red Star FC', 'Al Hazem', 'Pogoń Szczecin',\n",
       "       'Charlton Athletic', 'Grenoble Foot 38', 'FC Hansa Rostock',\n",
       "       'San Martin de Tucumán', 'Incheon United FC', 'Śląsk Wrocław',\n",
       "       'GFC Ajaccio', '1. FC Kaiserslautern', 'Deportivo Pasto',\n",
       "       'Lincoln City', 'Motherwell', 'Rotherham United', 'Burton Albion',\n",
       "       'Wisła Płock', 'FC Wacker Innsbruck', 'Peterborough United',\n",
       "       'Ascoli', 'FC Zürich', 'Fleetwood Town', 'Padova',\n",
       "       'FC Sochaux-Montbéliard', 'SV Wehen Wiesbaden', 'Unión La Calera',\n",
       "       'Scunthorpe United', \"CD O'Higgins\", 'CD Antofagasta',\n",
       "       'Plymouth Argyle', 'Aarhus GF', 'Lillestrøm SK', 'Karlsruher SC',\n",
       "       'GIF Sundsvall', 'FC Emmen', 'Barnsley', 'Audax Italiano',\n",
       "       'V-Varen Nagasaki', 'Paris FC', 'SpVgg Unterhaching', 'Hobro IK',\n",
       "       'De Graafschap', 'Hokkaido Consadole Sapporo', 'Tromsø IL',\n",
       "       'FC Luzern', 'FK Haugesund', 'Zagłębie Lubin', 'VfR Aalen',\n",
       "       'Dundalk', 'Oxford United', 'Piast Gliwice', 'Ohod Club',\n",
       "       'Östersunds FK', 'Vegalta Sendai', 'Crawley Town',\n",
       "       'FC Admira Wacker Mödling', 'Vålerenga Fotball', 'Dundee FC',\n",
       "       'Portsmouth', 'Envigado FC', 'Miedź Legnica', 'Odds BK',\n",
       "       'SC Fortuna Köln', 'US Orléans Loiret Football', 'Sarpsborg 08 FF',\n",
       "       'Jaguares de Córdoba', 'Bradford City', 'Accrington Stanley',\n",
       "       'St. Johnstone FC', 'Boyacá Chicó FC', 'Luton Town',\n",
       "       'SV Mattersburg', 'Kristiansund BK', 'Sangju Sangmu FC',\n",
       "       'Rochdale', 'Walsall', 'Korona Kielce', 'Shonan Bellmare',\n",
       "       'FC Würzburger Kickers', 'FSV Zwickau', 'St. Mirren', 'AC Horsens',\n",
       "       'Esbjerg fB', 'HJK Helsinki', 'Southend United', 'Bristol Rovers',\n",
       "       'Hamilton Academical FC', 'TSV 1860 München', 'Curicó Unido',\n",
       "       'SCR Altach', 'Ranheim Fotball', 'Stevenage',\n",
       "       'SG Sonnenhof Großaspach', 'Oldham Athletic', 'Milton Keynes Dons',\n",
       "       'FK Bodø/Glimt', 'SC Preußen Münster', 'Wycombe Wanderers',\n",
       "       'Vejle Boldklub', 'Bury', 'Randers FC', 'VfL Osnabrück',\n",
       "       'SønderjyskE', 'IFK Göteborg', 'Mansfield Town', 'Coventry City',\n",
       "       'Waterford FC', 'Shrewsbury', 'IK Start', 'Gillingham',\n",
       "       'FC Energie Cottbus', 'FC Carl Zeiss Jena', 'Hallescher FC',\n",
       "       'SV Meppen', 'AFC Wimbledon', 'Blackpool', 'Doncaster Rovers',\n",
       "       'Sandefjord Fotball', 'VfL Sportfreunde Lotte', 'Cheltenham Town',\n",
       "       'IK Sirius', 'Vendsyssel FF', 'Swindon Town', 'Notts County',\n",
       "       'SKN St. Pölten', 'Exeter City', 'Northampton Town',\n",
       "       'Shamrock Rovers', 'Colchester United', 'Livingston FC',\n",
       "       'TSV Hartberg', 'Tranmere Rovers', 'Cambridge United',\n",
       "       'Grimsby Town', 'Port Vale', 'Itagüí Leones FC',\n",
       "       'Forest Green Rovers', 'Dalkurd FF', 'Zagłębie Sosnowiec',\n",
       "       'Carlisle United', 'Trelleborgs FF', \"St. Patrick's Athletic\",\n",
       "       'Morecambe', 'Cork City', 'IF Brommapojkarna', 'Crewe Alexandra',\n",
       "       'Yeovil Town', 'Bohemian FC', 'Macclesfield Town',\n",
       "       'Newport County', 'Sligo Rovers', 'Derry City', 'Limerick FC',\n",
       "       'Bray Wanderers'], dtype=object)"
      ]
     },
     "execution_count": 6,
     "metadata": {},
     "output_type": "execute_result"
    }
   ],
   "source": [
    "data['Club'].unique()"
   ]
  },
  {
   "cell_type": "markdown",
   "id": "11455a81",
   "metadata": {},
   "source": [
    "Для заполнения пропусков используем SimpleImputer из библиотки sklearn. Для заполнения применим стратегию most_frequent, которая заменит NaN значения наиболее часто встречающимся в данной колонке."
   ]
  },
  {
   "cell_type": "code",
   "execution_count": 7,
   "id": "e5ef634a",
   "metadata": {
    "scrolled": false
   },
   "outputs": [
    {
     "data": {
      "text/plain": [
       "0"
      ]
     },
     "execution_count": 7,
     "metadata": {},
     "output_type": "execute_result"
    }
   ],
   "source": [
    "#Выбираем нужную нам колонку\n",
    "cat_temp_data = data[['Club']]\n",
    "\n",
    "# Создаем объект класса SimpleImputer, устанавливаем тип пропущенных значений и стратегию импьютирования\n",
    "imp2 = SimpleImputer(missing_values=np.nan, strategy='most_frequent')\n",
    "cat_temp_data = imp2.fit_transform(cat_temp_data)\n",
    "\n",
    "# преобразование полученного массива значений обратно в столбец датафрейма\n",
    "my_list = map(lambda x: x[0], cat_temp_data)\n",
    "data['Club'] = pd.Series(my_list)\n",
    "\n",
    "#Дополнительная проверка результата работы\n",
    "data['Club'].isna().sum()"
   ]
  },
  {
   "cell_type": "markdown",
   "id": "db7633fe",
   "metadata": {},
   "source": [
    "Пропуски в выбраном категориальном столбце устранены"
   ]
  },
  {
   "cell_type": "markdown",
   "id": "52af3819",
   "metadata": {},
   "source": [
    "### Обработка пропусков в числовых столбцах"
   ]
  },
  {
   "cell_type": "markdown",
   "id": "0621d9c4",
   "metadata": {},
   "source": [
    "Посмотрим на уникальные значения столбца `Weak Foot`"
   ]
  },
  {
   "cell_type": "code",
   "execution_count": 8,
   "id": "b47e56f1",
   "metadata": {},
   "outputs": [
    {
     "data": {
      "text/plain": [
       "array([ 4.,  5.,  3.,  2.,  1., nan])"
      ]
     },
     "execution_count": 8,
     "metadata": {},
     "output_type": "execute_result"
    }
   ],
   "source": [
    "data['Weak Foot'].unique()"
   ]
  },
  {
   "cell_type": "markdown",
   "id": "89c3c367",
   "metadata": {},
   "source": [
    "Построим гистограмму распределения значений в выбранном нами столбце"
   ]
  },
  {
   "cell_type": "code",
   "execution_count": 9,
   "id": "1e27730b",
   "metadata": {
    "scrolled": true
   },
   "outputs": [
    {
     "data": {
      "text/plain": [
       "<matplotlib.axes._subplots.AxesSubplot at 0x138349685c8>"
      ]
     },
     "execution_count": 9,
     "metadata": {},
     "output_type": "execute_result"
    },
    {
     "data": {
      "image/png": "[encoded data removed]",
      "text/plain": [
       "<Figure size 432x288 with 1 Axes>"
      ]
     },
     "metadata": {
      "needs_background": "light"
     },
     "output_type": "display_data"
    }
   ],
   "source": [
    "data['Weak Foot'].hist()"
   ]
  },
  {
   "cell_type": "markdown",
   "id": "49c69e01",
   "metadata": {},
   "source": [
    "Для замены воспользуемся средствами библиотеки pandas и заполним пропуски средним значением по данной колонке, поскольку выбросов(аномально больших или малых значений) нет, то данный способ уместен."
   ]
  },
  {
   "cell_type": "code",
   "execution_count": 10,
   "id": "d57c0786",
   "metadata": {},
   "outputs": [],
   "source": [
    "data['Weak Foot'] =  data['Weak Foot'].fillna(data['Weak Foot'].mean())"
   ]
  },
  {
   "cell_type": "code",
   "execution_count": 11,
   "id": "c8cbade1",
   "metadata": {},
   "outputs": [
    {
     "data": {
      "text/plain": [
       "<matplotlib.axes._subplots.AxesSubplot at 0x13834acd688>"
      ]
     },
     "execution_count": 11,
     "metadata": {},
     "output_type": "execute_result"
    },
    {
     "data": {
      "image/png": "[encoded data removed]",
      "text/plain": [
       "<Figure size 432x288 with 1 Axes>"
      ]
     },
     "metadata": {
      "needs_background": "light"
     },
     "output_type": "display_data"
    }
   ],
   "source": [
    "data['Weak Foot'].hist()"
   ]
  },
  {
   "cell_type": "code",
   "execution_count": 12,
   "id": "2b9308f0",
   "metadata": {},
   "outputs": [
    {
     "data": {
      "text/plain": [
       "0"
      ]
     },
     "execution_count": 12,
     "metadata": {},
     "output_type": "execute_result"
    }
   ],
   "source": [
    "data['Weak Foot'].isna().sum()"
   ]
  },
  {
   "cell_type": "markdown",
   "id": "c3875884",
   "metadata": {},
   "source": [
    "Пропуски в выбраном количественном столбце устранены"
   ]
  },
  {
   "cell_type": "markdown",
   "id": "fb70c3d4",
   "metadata": {},
   "source": [
    "## Ответы на контрольные вопросы:"
   ]
  },
  {
   "cell_type": "markdown",
   "id": "3403698e",
   "metadata": {},
   "source": [
    "- Какие признаки Вы будете использовать для дальнейшего построения моделей машинного обучения и почему?"
   ]
  },
  {
   "cell_type": "markdown",
   "id": "1584b89d",
   "metadata": {},
   "source": [
    "Для решения задачи регрессии и предсказания параметра `Overall`, т.е. для предсказания рейтинга карточки игрока, формирующегося на основе остальных его характеристик можно применить:\n",
    "* Линейную регрессию - т.к. зависимость между количетсвенными признаками и итоговым рейтингои прямопропорциональная, поэтому даже такой несложный метод может хорошо справиться с задачей\n",
    "* Метод опорных векторов - в данных исключены выбросы из-за того, что они уже стандартизированы в рамках рейтинговой системы, в которых их выставляют, также это достаточно сложный метод, который может справиться и в случае нелинейной зависимости целевого признака от параметров."
   ]
  }
 ],
 "metadata": {
  "kernelspec": {
   "display_name": "Python 3 (ipykernel)",
   "language": "python",
   "name": "python3"
  },
  "language_info": {
   "codemirror_mode": {
    "name": "ipython",
    "version": 3
   },
   "file_extension": ".py",
   "mimetype": "text/x-python",
   "name": "python",
   "nbconvert_exporter": "python",
   "pygments_lexer": "ipython3",
   "version": "3.7.8"
  },
  "toc": {
   "base_numbering": 1,
   "nav_menu": {},
   "number_sections": true,
   "sideBar": true,
   "skip_h1_title": false,
   "title_cell": "Table of Contents",
   "title_sidebar": "Contents",
   "toc_cell": false,
   "toc_position": {},
   "toc_section_display": true,
   "toc_window_display": true
  }
 },
 "nbformat": 4,
 "nbformat_minor": 5
}
